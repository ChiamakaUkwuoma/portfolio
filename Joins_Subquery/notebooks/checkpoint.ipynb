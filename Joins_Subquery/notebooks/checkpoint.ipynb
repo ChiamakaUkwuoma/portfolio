{
 "cells": [
  {
   "cell_type": "code",
   "execution_count": 1,
   "id": "c878ffe4-864f-4024-bcda-dc19c32f7352",
   "metadata": {
    "deletable": false,
    "editable": false,
    "nbgrader": {
     "cell_type": "code",
     "checksum": "150dfe555b9b9ec986b77b5bcd4163e9",
     "grade": false,
     "grade_id": "cell-3e534eab5f36d612",
     "locked": true,
     "schema_version": 3,
     "solution": false,
     "task": false
    }
   },
   "outputs": [
    {
     "ename": "",
     "evalue": "",
     "output_type": "error",
     "traceback": [
      "\u001b[1;31mRunning cells with 'Python 3.12.3' requires the ipykernel package.\n",
      "\u001b[1;31mRun the following command to install 'ipykernel' into the Python environment. \n",
      "\u001b[1;31mCommand: '/usr/bin/python3 -m pip install ipykernel -U --user --force-reinstall'"
     ]
    }
   ],
   "source": [
    "%pip install pandas\n",
    "import pandas as pd\n",
    "%load_ext sql"
   ]
  },
  {
   "cell_type": "code",
   "execution_count": 2,
   "id": "3cd3c5ff-96dd-466a-9acf-88eb2ed439f0",
   "metadata": {
    "deletable": false,
    "editable": false,
    "nbgrader": {
     "cell_type": "code",
     "checksum": "174702bad007d8fbabd48a5c7063dcc0",
     "grade": false,
     "grade_id": "cell-390e19db99d84411",
     "locked": true,
     "schema_version": 3,
     "solution": false,
     "task": false
    }
   },
   "outputs": [
    {
     "name": "stdout",
     "output_type": "stream",
     "text": [
      "Done.\n",
      "10 rows affected.\n"
     ]
    },
    {
     "data": {
      "text/plain": [
       "[]"
      ]
     },
     "execution_count": 2,
     "metadata": {},
     "output_type": "execute_result"
    }
   ],
   "source": [
    "%%sql sqlite://\n",
    "CREATE TABLE Sales (\n",
    "    OrderID INT PRIMARY KEY,\n",
    "    ProductName VARCHAR(50),\n",
    "    Customer VARCHAR(50),\n",
    "    OrderDate DATE,\n",
    "    Quantity INT,\n",
    "    UnitPrice INT\n",
    ");\n",
    "INSERT INTO Sales (OrderID, ProductName, Customer, OrderDate, Quantity, UnitPrice)\n",
    "VALUES\n",
    "    (1, 'Product A', 'David', '2024-01-05', 3, 25),\n",
    "    (2, 'Product B', 'Bianca', '2024-01-10', 2, 30),\n",
    "    (3, 'Product C', 'Leslie', '2024-01-15', 1, 15),\n",
    "    (4, 'Product A', 'David', '2024-01-20', 4, 25),\n",
    "    (5, 'Product D', 'Simon', '2024-01-25', 2, 50),\n",
    "    (6, 'Product B', 'Bianca', '2024-02-01', 3, 30),\n",
    "    (7, 'Product C', 'Simon', '2024-02-05', 1, 15),\n",
    "    (8, 'Product A', 'Kean', '2024-02-10', 5, 25),\n",
    "    (9, 'Product D', 'Kean', '2024-02-15', 2, 50),\n",
    "    (10, 'Product B', 'Bianca', '2024-02-20', 2, 30);"
   ]
  },
  {
   "cell_type": "code",
   "execution_count": 3,
   "id": "74e73f86-5f84-4fc7-bc3b-c277d7815f8b",
   "metadata": {
    "deletable": false,
    "editable": false,
    "nbgrader": {
     "cell_type": "code",
     "checksum": "9500b91532afff25ba416bd84b788cd5",
     "grade": false,
     "grade_id": "cell-1bd51ec9220440d2",
     "locked": true,
     "schema_version": 3,
     "solution": false,
     "task": false
    }
   },
   "outputs": [],
   "source": [
    "data = {\n",
    "    'OrderID': [1, 2, 3, 4, 5, 6, 7, 8, 9, 10],\n",
    "    'ProductName': ['Product A', 'Product B', 'Product C', 'Product A', 'Product D',\n",
    "                    'Product B', 'Product C', 'Product A', 'Product D', 'Product B'],\n",
    "    'Customer': ['David', 'Bianca', 'Leslie', 'David', 'Simon',\n",
    "                     'Bianca', 'Simon', 'Kean', 'Kean', 'Bianca'],\n",
    "    'OrderDate': ['2024-01-05', '2024-01-10', '2024-01-15', '2024-01-20', '2024-01-25',\n",
    "                  '2024-02-01', '2024-02-05', '2024-02-10', '2024-02-15', '2024-02-20'],\n",
    "    'Quantity': [3, 2, 1, 4, 2, 3, 1, 5, 2, 2],\n",
    "    'UnitPrice': [25, 30, 15, 25, 50, 30, 15, 25, 50, 30]\n",
    "}\n",
    "\n",
    "# Create DataFrame\n",
    "sales_data = pd.DataFrame(data)"
   ]
  },
  {
   "cell_type": "code",
   "execution_count": 4,
   "id": "496c7255-2ae0-4187-bd83-f0223e8bec71",
   "metadata": {},
   "outputs": [
    {
     "data": {
      "text/html": [
       "<div>\n",
       "<style scoped>\n",
       "    .dataframe tbody tr th:only-of-type {\n",
       "        vertical-align: middle;\n",
       "    }\n",
       "\n",
       "    .dataframe tbody tr th {\n",
       "        vertical-align: top;\n",
       "    }\n",
       "\n",
       "    .dataframe thead th {\n",
       "        text-align: right;\n",
       "    }\n",
       "</style>\n",
       "<table border=\"1\" class=\"dataframe\">\n",
       "  <thead>\n",
       "    <tr style=\"text-align: right;\">\n",
       "      <th></th>\n",
       "      <th>OrderID</th>\n",
       "      <th>ProductName</th>\n",
       "      <th>Customer</th>\n",
       "      <th>OrderDate</th>\n",
       "      <th>Quantity</th>\n",
       "      <th>UnitPrice</th>\n",
       "    </tr>\n",
       "  </thead>\n",
       "  <tbody>\n",
       "    <tr>\n",
       "      <th>0</th>\n",
       "      <td>1</td>\n",
       "      <td>Product A</td>\n",
       "      <td>David</td>\n",
       "      <td>2024-01-05</td>\n",
       "      <td>3</td>\n",
       "      <td>25</td>\n",
       "    </tr>\n",
       "    <tr>\n",
       "      <th>1</th>\n",
       "      <td>2</td>\n",
       "      <td>Product B</td>\n",
       "      <td>Bianca</td>\n",
       "      <td>2024-01-10</td>\n",
       "      <td>2</td>\n",
       "      <td>30</td>\n",
       "    </tr>\n",
       "    <tr>\n",
       "      <th>2</th>\n",
       "      <td>3</td>\n",
       "      <td>Product C</td>\n",
       "      <td>Leslie</td>\n",
       "      <td>2024-01-15</td>\n",
       "      <td>1</td>\n",
       "      <td>15</td>\n",
       "    </tr>\n",
       "    <tr>\n",
       "      <th>3</th>\n",
       "      <td>4</td>\n",
       "      <td>Product A</td>\n",
       "      <td>David</td>\n",
       "      <td>2024-01-20</td>\n",
       "      <td>4</td>\n",
       "      <td>25</td>\n",
       "    </tr>\n",
       "    <tr>\n",
       "      <th>4</th>\n",
       "      <td>5</td>\n",
       "      <td>Product D</td>\n",
       "      <td>Simon</td>\n",
       "      <td>2024-01-25</td>\n",
       "      <td>2</td>\n",
       "      <td>50</td>\n",
       "    </tr>\n",
       "    <tr>\n",
       "      <th>5</th>\n",
       "      <td>6</td>\n",
       "      <td>Product B</td>\n",
       "      <td>Bianca</td>\n",
       "      <td>2024-02-01</td>\n",
       "      <td>3</td>\n",
       "      <td>30</td>\n",
       "    </tr>\n",
       "    <tr>\n",
       "      <th>6</th>\n",
       "      <td>7</td>\n",
       "      <td>Product C</td>\n",
       "      <td>Simon</td>\n",
       "      <td>2024-02-05</td>\n",
       "      <td>1</td>\n",
       "      <td>15</td>\n",
       "    </tr>\n",
       "    <tr>\n",
       "      <th>7</th>\n",
       "      <td>8</td>\n",
       "      <td>Product A</td>\n",
       "      <td>Kean</td>\n",
       "      <td>2024-02-10</td>\n",
       "      <td>5</td>\n",
       "      <td>25</td>\n",
       "    </tr>\n",
       "    <tr>\n",
       "      <th>8</th>\n",
       "      <td>9</td>\n",
       "      <td>Product D</td>\n",
       "      <td>Kean</td>\n",
       "      <td>2024-02-15</td>\n",
       "      <td>2</td>\n",
       "      <td>50</td>\n",
       "    </tr>\n",
       "    <tr>\n",
       "      <th>9</th>\n",
       "      <td>10</td>\n",
       "      <td>Product B</td>\n",
       "      <td>Bianca</td>\n",
       "      <td>2024-02-20</td>\n",
       "      <td>2</td>\n",
       "      <td>30</td>\n",
       "    </tr>\n",
       "  </tbody>\n",
       "</table>\n",
       "</div>"
      ],
      "text/plain": [
       "   OrderID ProductName Customer   OrderDate  Quantity  UnitPrice\n",
       "0        1   Product A    David  2024-01-05         3         25\n",
       "1        2   Product B   Bianca  2024-01-10         2         30\n",
       "2        3   Product C   Leslie  2024-01-15         1         15\n",
       "3        4   Product A    David  2024-01-20         4         25\n",
       "4        5   Product D    Simon  2024-01-25         2         50\n",
       "5        6   Product B   Bianca  2024-02-01         3         30\n",
       "6        7   Product C    Simon  2024-02-05         1         15\n",
       "7        8   Product A     Kean  2024-02-10         5         25\n",
       "8        9   Product D     Kean  2024-02-15         2         50\n",
       "9       10   Product B   Bianca  2024-02-20         2         30"
      ]
     },
     "execution_count": 4,
     "metadata": {},
     "output_type": "execute_result"
    }
   ],
   "source": [
    "#run this cell to see what the dataset looks like\n",
    "sales_data"
   ]
  },
  {
   "cell_type": "markdown",
   "id": "77714eb0-2806-481e-b969-3e7ee814072a",
   "metadata": {
    "deletable": false,
    "editable": false,
    "nbgrader": {
     "cell_type": "markdown",
     "checksum": "da4e0297d9009f59d683c46fe82a144f",
     "grade": false,
     "grade_id": "cell-1164f7ed8bcb6d33",
     "locked": true,
     "schema_version": 3,
     "solution": false,
     "task": false
    }
   },
   "source": [
    "- The name of the table is sales\n",
    "- Always start your responses with this line `%%sql result <<`\n",
    "- Then start writing your query on the next line for example\n",
    "    ```\n",
    "%%sql result <<\n",
    "    select * from sales\n",
    "    ```"
   ]
  },
  {
   "cell_type": "markdown",
   "id": "a8df252f-d559-404e-9aa5-9f852e582c05",
   "metadata": {
    "deletable": false,
    "editable": false,
    "nbgrader": {
     "cell_type": "markdown",
     "checksum": "2d8290d21b0a58aab3e91a43a707e2b8",
     "grade": false,
     "grade_id": "cell-0f4894a55a81b1b4",
     "locked": true,
     "schema_version": 3,
     "solution": false,
     "task": false
    }
   },
   "source": [
    "#### 1. Retrieve all orders made by a customer named Bianca.\n",
    "- Just use `*` to get all the column names\n",
    "- clear everything in the cell below and write your sql query there. \n",
    "**Remember to Follow the Instructions on how to write your query**"
   ]
  },
  {
   "cell_type": "code",
   "execution_count": 5,
   "id": "464cd1f4-ac0a-470b-9c4e-cdca769b0d22",
   "metadata": {
    "deletable": false,
    "nbgrader": {
     "cell_type": "code",
     "checksum": "360264b7a77573cf3154adc94747a642",
     "grade": false,
     "grade_id": "cell-e0bd2ff299f43c54",
     "locked": false,
     "schema_version": 3,
     "solution": true,
     "task": false
    }
   },
   "outputs": [
    {
     "name": "stdout",
     "output_type": "stream",
     "text": [
      " * sqlite://\n",
      "Done.\n",
      "Returning data to local variable result\n"
     ]
    }
   ],
   "source": [
    "%%sql result <<\n",
    "select * \n",
    "from sales\n",
    "where Customer = 'Bianca'"
   ]
  },
  {
   "cell_type": "code",
   "execution_count": 6,
   "id": "fb6e7953-3267-4613-abab-ff971497ca45",
   "metadata": {
    "deletable": false,
    "editable": false,
    "nbgrader": {
     "cell_type": "code",
     "checksum": "e5e01692cbd4e3f6def96f5c1bd880d4",
     "grade": false,
     "grade_id": "cell-bb3d04c467d9095c",
     "locked": true,
     "schema_version": 3,
     "solution": false,
     "task": false
    }
   },
   "outputs": [
    {
     "name": "stdout",
     "output_type": "stream",
     "text": [
      "This is the output of your query\n"
     ]
    },
    {
     "data": {
      "text/html": [
       "<div>\n",
       "<style scoped>\n",
       "    .dataframe tbody tr th:only-of-type {\n",
       "        vertical-align: middle;\n",
       "    }\n",
       "\n",
       "    .dataframe tbody tr th {\n",
       "        vertical-align: top;\n",
       "    }\n",
       "\n",
       "    .dataframe thead th {\n",
       "        text-align: right;\n",
       "    }\n",
       "</style>\n",
       "<table border=\"1\" class=\"dataframe\">\n",
       "  <thead>\n",
       "    <tr style=\"text-align: right;\">\n",
       "      <th></th>\n",
       "      <th>OrderID</th>\n",
       "      <th>ProductName</th>\n",
       "      <th>Customer</th>\n",
       "      <th>OrderDate</th>\n",
       "      <th>Quantity</th>\n",
       "      <th>UnitPrice</th>\n",
       "    </tr>\n",
       "  </thead>\n",
       "  <tbody>\n",
       "    <tr>\n",
       "      <th>0</th>\n",
       "      <td>2</td>\n",
       "      <td>Product B</td>\n",
       "      <td>Bianca</td>\n",
       "      <td>2024-01-10</td>\n",
       "      <td>2</td>\n",
       "      <td>30</td>\n",
       "    </tr>\n",
       "    <tr>\n",
       "      <th>1</th>\n",
       "      <td>6</td>\n",
       "      <td>Product B</td>\n",
       "      <td>Bianca</td>\n",
       "      <td>2024-02-01</td>\n",
       "      <td>3</td>\n",
       "      <td>30</td>\n",
       "    </tr>\n",
       "    <tr>\n",
       "      <th>2</th>\n",
       "      <td>10</td>\n",
       "      <td>Product B</td>\n",
       "      <td>Bianca</td>\n",
       "      <td>2024-02-20</td>\n",
       "      <td>2</td>\n",
       "      <td>30</td>\n",
       "    </tr>\n",
       "  </tbody>\n",
       "</table>\n",
       "</div>"
      ],
      "text/plain": [
       "   OrderID ProductName Customer   OrderDate  Quantity  UnitPrice\n",
       "0        2   Product B   Bianca  2024-01-10         2         30\n",
       "1        6   Product B   Bianca  2024-02-01         3         30\n",
       "2       10   Product B   Bianca  2024-02-20         2         30"
      ]
     },
     "execution_count": 6,
     "metadata": {},
     "output_type": "execute_result"
    }
   ],
   "source": [
    "#Run this cell to check your output\n",
    "print('This is the output of your query')\n",
    "result.DataFrame()"
   ]
  },
  {
   "cell_type": "code",
   "execution_count": 7,
   "id": "195cc356-202d-4887-8fce-330dc55eec09",
   "metadata": {
    "deletable": false,
    "editable": false,
    "nbgrader": {
     "cell_type": "code",
     "checksum": "3cdddf775b315ad6a9bfef0f74aa8384",
     "grade": false,
     "grade_id": "cell-c8d49a4e9e62f655",
     "locked": true,
     "schema_version": 3,
     "solution": false,
     "task": false
    }
   },
   "outputs": [
    {
     "name": "stdout",
     "output_type": "stream",
     "text": [
      "This is the expected output\n"
     ]
    },
    {
     "data": {
      "text/html": [
       "<div>\n",
       "<style scoped>\n",
       "    .dataframe tbody tr th:only-of-type {\n",
       "        vertical-align: middle;\n",
       "    }\n",
       "\n",
       "    .dataframe tbody tr th {\n",
       "        vertical-align: top;\n",
       "    }\n",
       "\n",
       "    .dataframe thead th {\n",
       "        text-align: right;\n",
       "    }\n",
       "</style>\n",
       "<table border=\"1\" class=\"dataframe\">\n",
       "  <thead>\n",
       "    <tr style=\"text-align: right;\">\n",
       "      <th></th>\n",
       "      <th>OrderID</th>\n",
       "      <th>ProductName</th>\n",
       "      <th>Customer</th>\n",
       "      <th>OrderDate</th>\n",
       "      <th>Quantity</th>\n",
       "      <th>UnitPrice</th>\n",
       "    </tr>\n",
       "  </thead>\n",
       "  <tbody>\n",
       "    <tr>\n",
       "      <th>0</th>\n",
       "      <td>2</td>\n",
       "      <td>Product B</td>\n",
       "      <td>Bianca</td>\n",
       "      <td>2024-01-10</td>\n",
       "      <td>2</td>\n",
       "      <td>30</td>\n",
       "    </tr>\n",
       "    <tr>\n",
       "      <th>1</th>\n",
       "      <td>6</td>\n",
       "      <td>Product B</td>\n",
       "      <td>Bianca</td>\n",
       "      <td>2024-02-01</td>\n",
       "      <td>3</td>\n",
       "      <td>30</td>\n",
       "    </tr>\n",
       "    <tr>\n",
       "      <th>2</th>\n",
       "      <td>10</td>\n",
       "      <td>Product B</td>\n",
       "      <td>Bianca</td>\n",
       "      <td>2024-02-20</td>\n",
       "      <td>2</td>\n",
       "      <td>30</td>\n",
       "    </tr>\n",
       "  </tbody>\n",
       "</table>\n",
       "</div>"
      ],
      "text/plain": [
       "   OrderID ProductName Customer   OrderDate  Quantity  UnitPrice\n",
       "0        2   Product B   Bianca  2024-01-10         2         30\n",
       "1        6   Product B   Bianca  2024-02-01         3         30\n",
       "2       10   Product B   Bianca  2024-02-20         2         30"
      ]
     },
     "execution_count": 7,
     "metadata": {},
     "output_type": "execute_result"
    }
   ],
   "source": [
    "#Run this cell to see the expected output\n",
    "test1 = sales_data[sales_data['Customer'] == 'Bianca'].reset_index(drop=True)\n",
    "print('This is the expected output')\n",
    "test1"
   ]
  },
  {
   "cell_type": "code",
   "execution_count": 8,
   "id": "fd4ac615-13c7-4387-be5e-e9107807fb70",
   "metadata": {
    "deletable": false,
    "editable": false,
    "nbgrader": {
     "cell_type": "code",
     "checksum": "8ecc70dceb43e15fcd2f498d097d9078",
     "grade": true,
     "grade_id": "cell-cf9ac61b23e1045c",
     "locked": true,
     "points": 8,
     "schema_version": 3,
     "solution": false,
     "task": false
    }
   },
   "outputs": [],
   "source": [
    "assert result.DataFrame().equals(test1)"
   ]
  },
  {
   "cell_type": "markdown",
   "id": "c9d2470c-82c9-4201-a6bb-0158c11cbe62",
   "metadata": {
    "deletable": false,
    "editable": false,
    "nbgrader": {
     "cell_type": "markdown",
     "checksum": "ae425d3d400cc0f21d1d2469812a9a9a",
     "grade": false,
     "grade_id": "cell-65c1475caa4d5938",
     "locked": true,
     "schema_version": 3,
     "solution": false,
     "task": false
    }
   },
   "source": [
    "#### 2. Retrieve all products and the total qunatities sold for each product.\n",
    "- Use the alias `total_quantity` for your aggregate column. Spell it exactly as i have written it.\n",
    "- clear everything in the cell below and write your sql query there. \n",
    "**Remember to Follow the Instructions on how to write your query**"
   ]
  },
  {
   "cell_type": "code",
   "execution_count": 15,
   "id": "bceb99eb-02d4-46f5-90e1-06974210b629",
   "metadata": {
    "deletable": false,
    "nbgrader": {
     "cell_type": "code",
     "checksum": "b93bca781bc845fd896eb88d7fe57d6d",
     "grade": false,
     "grade_id": "cell-53a525f69f919b9e",
     "locked": false,
     "schema_version": 3,
     "solution": true,
     "task": false
    }
   },
   "outputs": [
    {
     "name": "stdout",
     "output_type": "stream",
     "text": [
      " * sqlite://\n",
      "Done.\n",
      "Returning data to local variable result\n"
     ]
    }
   ],
   "source": [
    "%%sql result <<\n",
    "select ProductName, sum(Quantity) as total_quantity\n",
    "from sales\n",
    "group by ProductName"
   ]
  },
  {
   "cell_type": "code",
   "execution_count": 16,
   "id": "cb1fc27a-d963-4699-a3db-8bf339744313",
   "metadata": {
    "deletable": false,
    "editable": false,
    "nbgrader": {
     "cell_type": "code",
     "checksum": "bd9a18b8b1da9eb352acb9e7bb732abf",
     "grade": false,
     "grade_id": "cell-1f843b35e4780eb4",
     "locked": true,
     "schema_version": 3,
     "solution": false,
     "task": false
    }
   },
   "outputs": [
    {
     "name": "stdout",
     "output_type": "stream",
     "text": [
      "This is the output of your query\n"
     ]
    },
    {
     "data": {
      "text/html": [
       "<div>\n",
       "<style scoped>\n",
       "    .dataframe tbody tr th:only-of-type {\n",
       "        vertical-align: middle;\n",
       "    }\n",
       "\n",
       "    .dataframe tbody tr th {\n",
       "        vertical-align: top;\n",
       "    }\n",
       "\n",
       "    .dataframe thead th {\n",
       "        text-align: right;\n",
       "    }\n",
       "</style>\n",
       "<table border=\"1\" class=\"dataframe\">\n",
       "  <thead>\n",
       "    <tr style=\"text-align: right;\">\n",
       "      <th></th>\n",
       "      <th>ProductName</th>\n",
       "      <th>total_quantity</th>\n",
       "    </tr>\n",
       "  </thead>\n",
       "  <tbody>\n",
       "    <tr>\n",
       "      <th>0</th>\n",
       "      <td>Product A</td>\n",
       "      <td>12</td>\n",
       "    </tr>\n",
       "    <tr>\n",
       "      <th>1</th>\n",
       "      <td>Product B</td>\n",
       "      <td>7</td>\n",
       "    </tr>\n",
       "    <tr>\n",
       "      <th>2</th>\n",
       "      <td>Product C</td>\n",
       "      <td>2</td>\n",
       "    </tr>\n",
       "    <tr>\n",
       "      <th>3</th>\n",
       "      <td>Product D</td>\n",
       "      <td>4</td>\n",
       "    </tr>\n",
       "  </tbody>\n",
       "</table>\n",
       "</div>"
      ],
      "text/plain": [
       "  ProductName  total_quantity\n",
       "0   Product A              12\n",
       "1   Product B               7\n",
       "2   Product C               2\n",
       "3   Product D               4"
      ]
     },
     "execution_count": 16,
     "metadata": {},
     "output_type": "execute_result"
    }
   ],
   "source": [
    "#Run this cell to check your output\n",
    "print('This is the output of your query')\n",
    "result.DataFrame()"
   ]
  },
  {
   "cell_type": "code",
   "execution_count": 17,
   "id": "c34e5241-bfd9-4fc7-a026-b3b6411bd728",
   "metadata": {
    "deletable": false,
    "editable": false,
    "nbgrader": {
     "cell_type": "code",
     "checksum": "346ac6e5ef7506d16e256ead4f28a572",
     "grade": false,
     "grade_id": "cell-3626a066b0e4f3e5",
     "locked": true,
     "schema_version": 3,
     "solution": false,
     "task": false
    }
   },
   "outputs": [
    {
     "name": "stdout",
     "output_type": "stream",
     "text": [
      "This is the expected output\n"
     ]
    },
    {
     "data": {
      "text/html": [
       "<div>\n",
       "<style scoped>\n",
       "    .dataframe tbody tr th:only-of-type {\n",
       "        vertical-align: middle;\n",
       "    }\n",
       "\n",
       "    .dataframe tbody tr th {\n",
       "        vertical-align: top;\n",
       "    }\n",
       "\n",
       "    .dataframe thead th {\n",
       "        text-align: right;\n",
       "    }\n",
       "</style>\n",
       "<table border=\"1\" class=\"dataframe\">\n",
       "  <thead>\n",
       "    <tr style=\"text-align: right;\">\n",
       "      <th></th>\n",
       "      <th>ProductName</th>\n",
       "      <th>total_quantity</th>\n",
       "    </tr>\n",
       "  </thead>\n",
       "  <tbody>\n",
       "    <tr>\n",
       "      <th>0</th>\n",
       "      <td>Product A</td>\n",
       "      <td>12</td>\n",
       "    </tr>\n",
       "    <tr>\n",
       "      <th>1</th>\n",
       "      <td>Product B</td>\n",
       "      <td>7</td>\n",
       "    </tr>\n",
       "    <tr>\n",
       "      <th>2</th>\n",
       "      <td>Product C</td>\n",
       "      <td>2</td>\n",
       "    </tr>\n",
       "    <tr>\n",
       "      <th>3</th>\n",
       "      <td>Product D</td>\n",
       "      <td>4</td>\n",
       "    </tr>\n",
       "  </tbody>\n",
       "</table>\n",
       "</div>"
      ],
      "text/plain": [
       "  ProductName  total_quantity\n",
       "0   Product A              12\n",
       "1   Product B               7\n",
       "2   Product C               2\n",
       "3   Product D               4"
      ]
     },
     "execution_count": 17,
     "metadata": {},
     "output_type": "execute_result"
    }
   ],
   "source": [
    "#Run this cell to see the expected output\n",
    "test2 = sales_data.groupby('ProductName')['Quantity'].sum().reset_index()\n",
    "test2.columns = ['ProductName', 'total_quantity']\n",
    "print('This is the expected output')\n",
    "test2"
   ]
  },
  {
   "cell_type": "code",
   "execution_count": 18,
   "id": "3e060a98-dc84-4ee8-b43c-511b90b8d718",
   "metadata": {
    "deletable": false,
    "editable": false,
    "nbgrader": {
     "cell_type": "code",
     "checksum": "e817735d5e776e0a0a51d8c98425cf00",
     "grade": true,
     "grade_id": "cell-659def203a1c50ec",
     "locked": true,
     "points": 8,
     "schema_version": 3,
     "solution": false,
     "task": false
    }
   },
   "outputs": [],
   "source": [
    "assert result.DataFrame().equals(test2)"
   ]
  },
  {
   "cell_type": "markdown",
   "id": "2a826d5b-dffc-44c4-9ac4-ec3ddc64ed15",
   "metadata": {
    "deletable": false,
    "editable": false,
    "nbgrader": {
     "cell_type": "markdown",
     "checksum": "41fded7e27c6d9ccf65eb68e705a1710",
     "grade": false,
     "grade_id": "cell-83f728a880377315",
     "locked": true,
     "schema_version": 3,
     "solution": false,
     "task": false
    }
   },
   "source": [
    "#### 3. Write a query that Calculate the total quantity sold from sales in January 2024 only.\n",
    "- Use the alias `total_quantity` for your aggregate column. Spell it exactly as i have written it.\n",
    "- clear everything in the cell below and write your sql query there. \n",
    "**Remember to Follow the Instructions on how to write your query**"
   ]
  },
  {
   "cell_type": "code",
   "execution_count": 20,
   "id": "54193efe-f702-432f-8f57-e48ada8b23a6",
   "metadata": {
    "deletable": false,
    "nbgrader": {
     "cell_type": "code",
     "checksum": "6255e35b0115a2d93c6d1bfda25fa7dd",
     "grade": false,
     "grade_id": "cell-919e95edc03074c2",
     "locked": false,
     "schema_version": 3,
     "solution": true,
     "task": false
    }
   },
   "outputs": [
    {
     "name": "stdout",
     "output_type": "stream",
     "text": [
      " * sqlite://\n",
      "Done.\n",
      "Returning data to local variable result\n"
     ]
    }
   ],
   "source": [
    "%%sql result <<\n",
    "select sum(Quantity) as total_quantity\n",
    "from sales\n",
    "where OrderDate Like '2024-01%'"
   ]
  },
  {
   "cell_type": "code",
   "execution_count": 21,
   "id": "fa5bc78c-675a-4922-bad6-b98e011fda94",
   "metadata": {
    "deletable": false,
    "editable": false,
    "nbgrader": {
     "cell_type": "code",
     "checksum": "090e45552b9a075f34122b72e020bcd0",
     "grade": false,
     "grade_id": "cell-5ff076c81cb8647a",
     "locked": true,
     "schema_version": 3,
     "solution": false,
     "task": false
    }
   },
   "outputs": [
    {
     "name": "stdout",
     "output_type": "stream",
     "text": [
      "This is the output of your query\n"
     ]
    },
    {
     "data": {
      "text/html": [
       "<div>\n",
       "<style scoped>\n",
       "    .dataframe tbody tr th:only-of-type {\n",
       "        vertical-align: middle;\n",
       "    }\n",
       "\n",
       "    .dataframe tbody tr th {\n",
       "        vertical-align: top;\n",
       "    }\n",
       "\n",
       "    .dataframe thead th {\n",
       "        text-align: right;\n",
       "    }\n",
       "</style>\n",
       "<table border=\"1\" class=\"dataframe\">\n",
       "  <thead>\n",
       "    <tr style=\"text-align: right;\">\n",
       "      <th></th>\n",
       "      <th>total_quantity</th>\n",
       "    </tr>\n",
       "  </thead>\n",
       "  <tbody>\n",
       "    <tr>\n",
       "      <th>0</th>\n",
       "      <td>12</td>\n",
       "    </tr>\n",
       "  </tbody>\n",
       "</table>\n",
       "</div>"
      ],
      "text/plain": [
       "   total_quantity\n",
       "0              12"
      ]
     },
     "execution_count": 21,
     "metadata": {},
     "output_type": "execute_result"
    }
   ],
   "source": [
    "#Run this cell to check your output\n",
    "print('This is the output of your query')\n",
    "result.DataFrame()"
   ]
  },
  {
   "cell_type": "code",
   "execution_count": 22,
   "id": "6a1cf934-6db8-4d98-9155-fe3b8025893f",
   "metadata": {
    "deletable": false,
    "editable": false,
    "nbgrader": {
     "cell_type": "code",
     "checksum": "69003317091b30b93aabf05e64b92a48",
     "grade": false,
     "grade_id": "cell-43cea19331ed2979",
     "locked": true,
     "schema_version": 3,
     "solution": false,
     "task": false
    }
   },
   "outputs": [
    {
     "name": "stdout",
     "output_type": "stream",
     "text": [
      "This is the expected output\n"
     ]
    },
    {
     "data": {
      "text/html": [
       "<div>\n",
       "<style scoped>\n",
       "    .dataframe tbody tr th:only-of-type {\n",
       "        vertical-align: middle;\n",
       "    }\n",
       "\n",
       "    .dataframe tbody tr th {\n",
       "        vertical-align: top;\n",
       "    }\n",
       "\n",
       "    .dataframe thead th {\n",
       "        text-align: right;\n",
       "    }\n",
       "</style>\n",
       "<table border=\"1\" class=\"dataframe\">\n",
       "  <thead>\n",
       "    <tr style=\"text-align: right;\">\n",
       "      <th></th>\n",
       "      <th>total_quantity</th>\n",
       "    </tr>\n",
       "  </thead>\n",
       "  <tbody>\n",
       "    <tr>\n",
       "      <th>0</th>\n",
       "      <td>12</td>\n",
       "    </tr>\n",
       "  </tbody>\n",
       "</table>\n",
       "</div>"
      ],
      "text/plain": [
       "   total_quantity\n",
       "0              12"
      ]
     },
     "execution_count": 22,
     "metadata": {},
     "output_type": "execute_result"
    }
   ],
   "source": [
    "#Run this cell to see the expected output\n",
    "jan_quantity = (sales_data[(sales_data['OrderDate'] >= '2024-01-01') & (sales_data['OrderDate'] <= '2024-01-31')]['Quantity'].sum())\n",
    "test3 = pd.DataFrame([jan_quantity], columns = ['total_quantity'])\n",
    "print('This is the expected output')\n",
    "test3"
   ]
  },
  {
   "cell_type": "code",
   "execution_count": 23,
   "id": "a67cf5f1-878d-4792-8c82-c7e5597a9b6c",
   "metadata": {
    "deletable": false,
    "editable": false,
    "nbgrader": {
     "cell_type": "code",
     "checksum": "c10bbbbcd5bf5ba97460bd6f2df625c2",
     "grade": true,
     "grade_id": "cell-0103803ea2a61006",
     "locked": true,
     "points": 8,
     "schema_version": 3,
     "solution": false,
     "task": false
    }
   },
   "outputs": [],
   "source": [
    "assert result.DataFrame().equals(test3)"
   ]
  },
  {
   "cell_type": "markdown",
   "id": "4a73373c-8e28-4854-9826-10fc51f89b97",
   "metadata": {
    "deletable": false,
    "editable": false,
    "nbgrader": {
     "cell_type": "markdown",
     "checksum": "5b9dd652b7f1bddf93d72693e60b2c00",
     "grade": false,
     "grade_id": "cell-1adb268c9f482126",
     "locked": true,
     "schema_version": 3,
     "solution": false,
     "task": false
    }
   },
   "source": [
    "#### 4. Write a query that Calculates the average unit price sold.\n",
    "- Use the alias `average_price` for your aggregate column. Spell it exactly as i have written it.\n",
    "- clear everything in the cell below and write your sql query there. \n",
    "**Remember to Follow the Instructions on how to write your query**"
   ]
  },
  {
   "cell_type": "code",
   "execution_count": 24,
   "id": "99e9f2ce-2d22-4533-8acc-19a526a4d55e",
   "metadata": {
    "deletable": false,
    "nbgrader": {
     "cell_type": "code",
     "checksum": "48488366dc3023bd5acc4a15d79c27e0",
     "grade": false,
     "grade_id": "cell-152c04c839ff086b",
     "locked": false,
     "schema_version": 3,
     "solution": true,
     "task": false
    }
   },
   "outputs": [
    {
     "name": "stdout",
     "output_type": "stream",
     "text": [
      " * sqlite://\n",
      "Done.\n",
      "Returning data to local variable result\n"
     ]
    }
   ],
   "source": [
    "%%sql result <<\n",
    "select avg(UnitPrice) as average_price\n",
    "from sales\n"
   ]
  },
  {
   "cell_type": "code",
   "execution_count": 25,
   "id": "6afedbee-fca1-4c08-9439-024d41615d1d",
   "metadata": {
    "deletable": false,
    "editable": false,
    "nbgrader": {
     "cell_type": "code",
     "checksum": "5cbbd380f3da0f63a085a5aadd3a8da3",
     "grade": false,
     "grade_id": "cell-4980902af8056e42",
     "locked": true,
     "schema_version": 3,
     "solution": false,
     "task": false
    }
   },
   "outputs": [
    {
     "name": "stdout",
     "output_type": "stream",
     "text": [
      "This is the output of your query\n"
     ]
    },
    {
     "data": {
      "text/html": [
       "<div>\n",
       "<style scoped>\n",
       "    .dataframe tbody tr th:only-of-type {\n",
       "        vertical-align: middle;\n",
       "    }\n",
       "\n",
       "    .dataframe tbody tr th {\n",
       "        vertical-align: top;\n",
       "    }\n",
       "\n",
       "    .dataframe thead th {\n",
       "        text-align: right;\n",
       "    }\n",
       "</style>\n",
       "<table border=\"1\" class=\"dataframe\">\n",
       "  <thead>\n",
       "    <tr style=\"text-align: right;\">\n",
       "      <th></th>\n",
       "      <th>average_price</th>\n",
       "    </tr>\n",
       "  </thead>\n",
       "  <tbody>\n",
       "    <tr>\n",
       "      <th>0</th>\n",
       "      <td>29.5</td>\n",
       "    </tr>\n",
       "  </tbody>\n",
       "</table>\n",
       "</div>"
      ],
      "text/plain": [
       "   average_price\n",
       "0           29.5"
      ]
     },
     "execution_count": 25,
     "metadata": {},
     "output_type": "execute_result"
    }
   ],
   "source": [
    "#Run this cell to check your output\n",
    "print('This is the output of your query')\n",
    "result.DataFrame()"
   ]
  },
  {
   "cell_type": "code",
   "execution_count": 26,
   "id": "a8e62ba6-60e6-4341-bd33-46520d33a07a",
   "metadata": {
    "deletable": false,
    "editable": false,
    "nbgrader": {
     "cell_type": "code",
     "checksum": "f8f59278ed145ff47074cc323cfffd5c",
     "grade": false,
     "grade_id": "cell-7ac03db2c8555866",
     "locked": true,
     "schema_version": 3,
     "solution": false,
     "task": false
    }
   },
   "outputs": [
    {
     "name": "stdout",
     "output_type": "stream",
     "text": [
      "This is the expected output\n"
     ]
    },
    {
     "data": {
      "text/html": [
       "<div>\n",
       "<style scoped>\n",
       "    .dataframe tbody tr th:only-of-type {\n",
       "        vertical-align: middle;\n",
       "    }\n",
       "\n",
       "    .dataframe tbody tr th {\n",
       "        vertical-align: top;\n",
       "    }\n",
       "\n",
       "    .dataframe thead th {\n",
       "        text-align: right;\n",
       "    }\n",
       "</style>\n",
       "<table border=\"1\" class=\"dataframe\">\n",
       "  <thead>\n",
       "    <tr style=\"text-align: right;\">\n",
       "      <th></th>\n",
       "      <th>average_price</th>\n",
       "    </tr>\n",
       "  </thead>\n",
       "  <tbody>\n",
       "    <tr>\n",
       "      <th>0</th>\n",
       "      <td>29.5</td>\n",
       "    </tr>\n",
       "  </tbody>\n",
       "</table>\n",
       "</div>"
      ],
      "text/plain": [
       "   average_price\n",
       "0           29.5"
      ]
     },
     "execution_count": 26,
     "metadata": {},
     "output_type": "execute_result"
    }
   ],
   "source": [
    "#Run this cell to see the expected output\n",
    "avgprc = sales_data['UnitPrice'].mean()\n",
    "test4 = pd.DataFrame([avgprc], columns = ['average_price'])\n",
    "print('This is the expected output')\n",
    "test4"
   ]
  },
  {
   "cell_type": "code",
   "execution_count": 27,
   "id": "fded9f4f-1da8-407b-82d6-d8616aae3125",
   "metadata": {
    "deletable": false,
    "editable": false,
    "nbgrader": {
     "cell_type": "code",
     "checksum": "60cfadab89a1fbd55383a1cc01d15a69",
     "grade": true,
     "grade_id": "cell-9aedb87130b9508f",
     "locked": true,
     "points": 8,
     "schema_version": 3,
     "solution": false,
     "task": false
    }
   },
   "outputs": [],
   "source": [
    "assert result.DataFrame().equals(test4)"
   ]
  },
  {
   "cell_type": "markdown",
   "id": "a25775ce-f368-47a5-9c3f-2b4c3a1f8aab",
   "metadata": {
    "deletable": false,
    "editable": false,
    "nbgrader": {
     "cell_type": "markdown",
     "checksum": "2fd7df2b05f028110b37f3eefaa8ef3a",
     "grade": false,
     "grade_id": "cell-b7964630ef4ddfbb",
     "locked": true,
     "schema_version": 3,
     "solution": false,
     "task": false
    }
   },
   "source": [
    "#### 5. Retrieve a list of customers who made more than 2 orders.\n",
    "- Use the alias `order_count` for your aggregate column. Spell it exactly as i have written it.\n",
    "- clear everything in the cell below and write your sql query there. \n",
    "**Remember to Follow the Instructions on how to write your query**"
   ]
  },
  {
   "cell_type": "code",
   "execution_count": 33,
   "id": "b91509a2-c461-4712-b404-12062cb63ea9",
   "metadata": {
    "deletable": false,
    "nbgrader": {
     "cell_type": "code",
     "checksum": "3e2203e3601b3286347312fd2712d988",
     "grade": false,
     "grade_id": "cell-e51c13847d1d0ebf",
     "locked": false,
     "schema_version": 3,
     "solution": true,
     "task": false
    }
   },
   "outputs": [
    {
     "name": "stdout",
     "output_type": "stream",
     "text": [
      " * sqlite://\n",
      "Done.\n",
      "Returning data to local variable result\n"
     ]
    }
   ],
   "source": [
    "%%sql result <<\n",
    "SELECT Customer, COUNT(*) AS order_count\n",
    "FROM sales\n",
    "GROUP BY Customer\n",
    "HAVING COUNT(*) > 2"
   ]
  },
  {
   "cell_type": "code",
   "execution_count": 34,
   "id": "0d86ac1f-6af8-4c59-a380-983b907cbb28",
   "metadata": {
    "deletable": false,
    "editable": false,
    "nbgrader": {
     "cell_type": "code",
     "checksum": "a58b2ecb5084f41c1a0b691752b0b87f",
     "grade": false,
     "grade_id": "cell-2621824e3ec15817",
     "locked": true,
     "schema_version": 3,
     "solution": false,
     "task": false
    }
   },
   "outputs": [
    {
     "name": "stdout",
     "output_type": "stream",
     "text": [
      "This is the output of your query\n"
     ]
    },
    {
     "data": {
      "text/html": [
       "<div>\n",
       "<style scoped>\n",
       "    .dataframe tbody tr th:only-of-type {\n",
       "        vertical-align: middle;\n",
       "    }\n",
       "\n",
       "    .dataframe tbody tr th {\n",
       "        vertical-align: top;\n",
       "    }\n",
       "\n",
       "    .dataframe thead th {\n",
       "        text-align: right;\n",
       "    }\n",
       "</style>\n",
       "<table border=\"1\" class=\"dataframe\">\n",
       "  <thead>\n",
       "    <tr style=\"text-align: right;\">\n",
       "      <th></th>\n",
       "      <th>Customer</th>\n",
       "      <th>order_count</th>\n",
       "    </tr>\n",
       "  </thead>\n",
       "  <tbody>\n",
       "    <tr>\n",
       "      <th>0</th>\n",
       "      <td>Bianca</td>\n",
       "      <td>3</td>\n",
       "    </tr>\n",
       "  </tbody>\n",
       "</table>\n",
       "</div>"
      ],
      "text/plain": [
       "  Customer  order_count\n",
       "0   Bianca            3"
      ]
     },
     "execution_count": 34,
     "metadata": {},
     "output_type": "execute_result"
    }
   ],
   "source": [
    "#Run this cell to check your output\n",
    "print('This is the output of your query')\n",
    "result.DataFrame()"
   ]
  },
  {
   "cell_type": "code",
   "execution_count": 35,
   "id": "c441796f-8f9e-49dc-91d4-c5e0173446ce",
   "metadata": {
    "deletable": false,
    "editable": false,
    "nbgrader": {
     "cell_type": "code",
     "checksum": "a19167419b4201140eb3ce1e2db9c743",
     "grade": false,
     "grade_id": "cell-c7744d5c021f28d1",
     "locked": true,
     "schema_version": 3,
     "solution": false,
     "task": false
    }
   },
   "outputs": [
    {
     "name": "stdout",
     "output_type": "stream",
     "text": [
      "This is the expected output\n"
     ]
    },
    {
     "data": {
      "text/html": [
       "<div>\n",
       "<style scoped>\n",
       "    .dataframe tbody tr th:only-of-type {\n",
       "        vertical-align: middle;\n",
       "    }\n",
       "\n",
       "    .dataframe tbody tr th {\n",
       "        vertical-align: top;\n",
       "    }\n",
       "\n",
       "    .dataframe thead th {\n",
       "        text-align: right;\n",
       "    }\n",
       "</style>\n",
       "<table border=\"1\" class=\"dataframe\">\n",
       "  <thead>\n",
       "    <tr style=\"text-align: right;\">\n",
       "      <th></th>\n",
       "      <th>Customer</th>\n",
       "      <th>order_count</th>\n",
       "    </tr>\n",
       "  </thead>\n",
       "  <tbody>\n",
       "    <tr>\n",
       "      <th>0</th>\n",
       "      <td>Bianca</td>\n",
       "      <td>3</td>\n",
       "    </tr>\n",
       "  </tbody>\n",
       "</table>\n",
       "</div>"
      ],
      "text/plain": [
       "  Customer  order_count\n",
       "0   Bianca            3"
      ]
     },
     "execution_count": 35,
     "metadata": {},
     "output_type": "execute_result"
    }
   ],
   "source": [
    "#Run this cell to see the expected output\n",
    "test5 = (sales_data.groupby('Customer')\n",
    "                                     .size()\n",
    "                                     .reset_index(name='order_count')\n",
    "                                     .query('order_count > 2'))\n",
    "print('This is the expected output')\n",
    "test5"
   ]
  },
  {
   "cell_type": "code",
   "execution_count": 36,
   "id": "b79d6d71-a84c-4524-aa89-5949d156fcc2",
   "metadata": {
    "deletable": false,
    "editable": false,
    "nbgrader": {
     "cell_type": "code",
     "checksum": "bf01f3d235ee4f174c12fb8fbedd83fc",
     "grade": true,
     "grade_id": "cell-bb340718cdf0c063",
     "locked": true,
     "points": 8,
     "schema_version": 3,
     "solution": false,
     "task": false
    }
   },
   "outputs": [],
   "source": [
    "assert result.DataFrame().equals(test5)"
   ]
  }
 ],
 "metadata": {
  "kernelspec": {
   "display_name": "Python 3",
   "language": "python",
   "name": "python3"
  },
  "language_info": {
   "codemirror_mode": {
    "name": "ipython",
    "version": 3
   },
   "file_extension": ".py",
   "mimetype": "text/x-python",
   "name": "python",
   "nbconvert_exporter": "python",
   "pygments_lexer": "ipython3",
   "version": "3.12.3"
  }
 },
 "nbformat": 4,
 "nbformat_minor": 5
}
